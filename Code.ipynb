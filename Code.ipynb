{
 "cells": [
  {
   "cell_type": "markdown",
   "id": "1c24f024",
   "metadata": {},
   "source": [
    "# Scheduling Optimization"
   ]
  },
  {
   "cell_type": "markdown",
   "id": "6b259a70",
   "metadata": {},
   "source": [
    "## Introduction"
   ]
  },
  {
   "cell_type": "markdown",
   "id": "71083fa9",
   "metadata": {},
   "source": [
    "This exercise has for purpose to solve scheduling issues with assigning auditors to specific projects throughout the course of a year. There is a lot of information that goes into building such a model with solutions that may never be optimal or make everyone involved happy, but it is a start in helping organizations better use their resources on a more granular level."
   ]
  },
  {
   "cell_type": "markdown",
   "id": "deeab01c",
   "metadata": {},
   "source": [
    "## Setting up the base model"
   ]
  },
  {
   "cell_type": "markdown",
   "id": "f83acc07",
   "metadata": {},
   "source": [
    "The first step in the process is simply to import the package that we need, which in this case is the cp_model from OR-Tools and build the model. We can then set up the base settings where: <br> <br>\n",
    "\n",
    "workers: number of auditors <br>\n",
    "shifts: number of auditors needed per audit <br>\n",
    "days: number of audit <br>\n",
    "maxshiftsperday: 1 regardless, since an auditor can't have multiple roles on the same project <br>\n",
    "maxdifference: 1 to ensure an auditor is not assigned to more audits than another auditor <br> <br>\n",
    "\n",
    "We then input all the schedule possibilities into the model use nested for loops."
   ]
  },
  {
   "cell_type": "code",
   "execution_count": 5,
   "id": "50e8ad91",
   "metadata": {},
   "outputs": [],
   "source": [
    "# importing package\n",
    "from ortools.sat.python import cp_model\n",
    "\n",
    "# creating model\n",
    "model = cp_model.CpModel()\n",
    "\n",
    "# storing indices for worker, shifts and day combination\n",
    "shiftoptions = {}"
   ]
  },
  {
   "cell_type": "code",
   "execution_count": 6,
   "id": "4de36d61",
   "metadata": {},
   "outputs": [],
   "source": [
    "# setting up base information for schedules\n",
    "workers = 5\n",
    "shifts = 3\n",
    "days = 5\n",
    "maxshiftsperday = 1\n",
    "maxdifference = 1"
   ]
  },
  {
   "cell_type": "code",
   "execution_count": 7,
   "id": "22c003f6",
   "metadata": {},
   "outputs": [],
   "source": [
    "# creating each possible combination of worker, shift and day\n",
    "for x in range(workers):\n",
    "    for y in range(days):\n",
    "        for z in range(shifts):\n",
    "            shiftoptions[(x,y,z)] = model.NewBoolVar(\"shift with id\" + str(x) + \" \" + str(y) + \" \" + str(z))"
   ]
  },
  {
   "cell_type": "markdown",
   "id": "cd56e79f",
   "metadata": {},
   "source": [
    "## Adding constraints"
   ]
  },
  {
   "cell_type": "markdown",
   "id": "351afd49",
   "metadata": {},
   "source": [
    "This is where organization specific needs are implemented into the model. For the current case that is related to auditor scheduling, we have currently added the following constraints <br> <br>\n",
    "\n",
    "Each audit slot can only be assigned to 1 worker <br>\n",
    "Auditor can only work on 1 audit at a time <br>\n",
    "Same number of audits for every for every auditor <br>\n"
   ]
  },
  {
   "cell_type": "code",
   "execution_count": 8,
   "id": "5da6c37f",
   "metadata": {},
   "outputs": [],
   "source": [
    "# one auditor per audit slot\n",
    "for y in range(days):\n",
    "    for z in range(shifts):\n",
    "        model.Add(sum(shiftoptions[(x, y, z)] for x in range(workers)) == 1)"
   ]
  },
  {
   "cell_type": "code",
   "execution_count": 9,
   "id": "2c7b5612",
   "metadata": {},
   "outputs": [],
   "source": [
    "# auditors can only work one audit at a time\n",
    "for x in range(workers):\n",
    "    for y in range(days):\n",
    "        model.Add(sum(shiftoptions[(x,y,z)] for z in range(shifts)) <= 1)"
   ]
  },
  {
   "cell_type": "code",
   "execution_count": 11,
   "id": "e98cb002",
   "metadata": {},
   "outputs": [],
   "source": [
    "# auditors should have the same (or almost) number of audit assignments\n",
    "minshiftsperworker = (shifts * days) // workers\n",
    "maxshiftsperworker = minshiftsperworker + maxdifference\n",
    "for x in range(workers):\n",
    "    shiftsassigned = 0\n",
    "    for y in range(days):\n",
    "        for z in range(shifts):\n",
    "            shiftsassigned += shiftoptions[(x,y,z)]\n",
    "    model.Add(minshiftsperworker <= shiftsassigned)\n",
    "    model.Add(shiftsassigned <= maxshiftsperworker)"
   ]
  },
  {
   "cell_type": "markdown",
   "id": "bbdf95f3",
   "metadata": {},
   "source": [
    "Given that this is the first draft of such an optimization problem, there are still lots of constraints that will need to get implemented to ensure that it can be applied to the real world. Examples of such constraints could be: <br>\n",
    "<br>\n",
    "Overlaps between audits<br>\n",
    "Auditor turnaround (people joining or leaving)<br>\n",
    "Employee hierarchy (ap1 vs dx)<br>\n",
    "Familiarity of an auditor with an audit<br>\n",
    "Auditor preference for specific audits"
   ]
  },
  {
   "cell_type": "markdown",
   "id": "2fedbf39",
   "metadata": {},
   "source": [
    "## Solving problem and printing solution"
   ]
  },
  {
   "cell_type": "markdown",
   "id": "64a50aa0",
   "metadata": {},
   "source": [
    "This is the easy part where we are simply solving the problem that we have previously set up and printing its solution in a manner that a human being can understand."
   ]
  },
  {
   "cell_type": "code",
   "execution_count": 12,
   "id": "c34d675f",
   "metadata": {},
   "outputs": [],
   "source": [
    "# building a class to print the solution\n",
    "class SolutionPrinterClass(cp_model.CpSolverSolutionCallback):\n",
    "    def __init__(self, shiftoptions, workers, days, shifts, sols):\n",
    "        val = cp_model.CpSolverSolutionCallback.__init__(self)\n",
    "        self._shiftoptions = shiftoptions\n",
    "        self._workers = workers\n",
    "        self._days = days\n",
    "        self._shifts = shifts\n",
    "        self._solutions = set(sols)\n",
    "        self._solution_count = 0\n",
    "    def on_solution_callback(self):\n",
    "        if self._solution_count in self._solutions:\n",
    "            print(\"solution \" + str(self._solution_count))\n",
    "            for y in range(self._days):\n",
    "                print(\"day \" + str(y))\n",
    "                for x in range(self._workers):\n",
    "                    is_working = False\n",
    "                    for z in range(self._shifts):\n",
    "                        if self.Value(self._shiftoptions[(x,y,z)]):\n",
    "                            is_working = True\n",
    "                            print(\"worker \" +str(x) +\" works day \" + str(y) +\" shift \" + str(z))\n",
    "                    if not is_working:\n",
    "                        print('  Worker {} does not work'.format(x))\n",
    "            print()\n",
    "        self._solution_count += 1\n",
    "    def solution_count(self):\n",
    "        return self._solution_count"
   ]
  },
  {
   "cell_type": "code",
   "execution_count": 13,
   "id": "ed93f8f9",
   "metadata": {},
   "outputs": [
    {
     "name": "stdout",
     "output_type": "stream",
     "text": [
      "solution 0\n",
      "day 0\n",
      "  Worker 0 does not work\n",
      "worker 1 works day 0 shift 0\n",
      "  Worker 2 does not work\n",
      "worker 3 works day 0 shift 2\n",
      "worker 4 works day 0 shift 1\n",
      "day 1\n",
      "  Worker 0 does not work\n",
      "  Worker 1 does not work\n",
      "worker 2 works day 1 shift 0\n",
      "worker 3 works day 1 shift 2\n",
      "worker 4 works day 1 shift 1\n",
      "day 2\n",
      "  Worker 0 does not work\n",
      "  Worker 1 does not work\n",
      "worker 2 works day 2 shift 0\n",
      "worker 3 works day 2 shift 1\n",
      "worker 4 works day 2 shift 2\n",
      "day 3\n",
      "worker 0 works day 3 shift 2\n",
      "  Worker 1 does not work\n",
      "  Worker 2 does not work\n",
      "worker 3 works day 3 shift 1\n",
      "worker 4 works day 3 shift 0\n",
      "day 4\n",
      "worker 0 works day 4 shift 0\n",
      "worker 1 works day 4 shift 2\n",
      "worker 2 works day 4 shift 1\n",
      "  Worker 3 does not work\n",
      "  Worker 4 does not work\n",
      "day 5\n",
      "worker 0 works day 5 shift 0\n",
      "worker 1 works day 5 shift 1\n",
      "worker 2 works day 5 shift 2\n",
      "  Worker 3 does not work\n",
      "  Worker 4 does not work\n",
      "day 6\n",
      "worker 0 works day 6 shift 1\n",
      "worker 1 works day 6 shift 2\n",
      "worker 2 works day 6 shift 0\n",
      "  Worker 3 does not work\n",
      "  Worker 4 does not work\n",
      "\n"
     ]
    },
    {
     "ename": "KeyboardInterrupt",
     "evalue": "",
     "output_type": "error",
     "traceback": [
      "\u001b[1;31m---------------------------------------------------------------------------\u001b[0m",
      "\u001b[1;31mKeyboardInterrupt\u001b[0m                         Traceback (most recent call last)",
      "Cell \u001b[1;32mIn[13], line 6\u001b[0m\n\u001b[0;32m      4\u001b[0m solutionrange \u001b[38;5;241m=\u001b[39m \u001b[38;5;28mrange\u001b[39m(\u001b[38;5;241m1\u001b[39m)\n\u001b[0;32m      5\u001b[0m solution_printer \u001b[38;5;241m=\u001b[39m SolutionPrinterClass(shiftoptions, workers,days, shifts, solutionrange)\n\u001b[1;32m----> 6\u001b[0m \u001b[43msolver\u001b[49m\u001b[38;5;241;43m.\u001b[39;49m\u001b[43mSearchForAllSolutions\u001b[49m\u001b[43m(\u001b[49m\u001b[43mmodel\u001b[49m\u001b[43m,\u001b[49m\u001b[43m \u001b[49m\u001b[43msolution_printer\u001b[49m\u001b[43m)\u001b[49m\n",
      "File \u001b[1;32m~\\anaconda3\\lib\\site-packages\\ortools\\sat\\python\\cp_model.py:2260\u001b[0m, in \u001b[0;36mCpSolver.SearchForAllSolutions\u001b[1;34m(self, model, callback)\u001b[0m\n\u001b[0;32m   2257\u001b[0m enumerate_all \u001b[38;5;241m=\u001b[39m \u001b[38;5;28mself\u001b[39m\u001b[38;5;241m.\u001b[39mparameters\u001b[38;5;241m.\u001b[39menumerate_all_solutions\n\u001b[0;32m   2258\u001b[0m \u001b[38;5;28mself\u001b[39m\u001b[38;5;241m.\u001b[39mparameters\u001b[38;5;241m.\u001b[39menumerate_all_solutions \u001b[38;5;241m=\u001b[39m \u001b[38;5;28;01mTrue\u001b[39;00m\n\u001b[1;32m-> 2260\u001b[0m \u001b[38;5;28;43mself\u001b[39;49m\u001b[38;5;241;43m.\u001b[39;49m\u001b[43mSolve\u001b[49m\u001b[43m(\u001b[49m\u001b[43mmodel\u001b[49m\u001b[43m,\u001b[49m\u001b[43m \u001b[49m\u001b[43mcallback\u001b[49m\u001b[43m)\u001b[49m\n\u001b[0;32m   2262\u001b[0m \u001b[38;5;66;03m# Restore parameter.\u001b[39;00m\n\u001b[0;32m   2263\u001b[0m \u001b[38;5;28mself\u001b[39m\u001b[38;5;241m.\u001b[39mparameters\u001b[38;5;241m.\u001b[39menumerate_all_solutions \u001b[38;5;241m=\u001b[39m enumerate_all\n",
      "File \u001b[1;32m~\\anaconda3\\lib\\site-packages\\ortools\\sat\\python\\cp_model.py:2211\u001b[0m, in \u001b[0;36mCpSolver.Solve\u001b[1;34m(self, model, solution_callback)\u001b[0m\n\u001b[0;32m   2207\u001b[0m \u001b[38;5;28;01mif\u001b[39;00m \u001b[38;5;28mself\u001b[39m\u001b[38;5;241m.\u001b[39mlog_callback \u001b[38;5;129;01mis\u001b[39;00m \u001b[38;5;129;01mnot\u001b[39;00m \u001b[38;5;28;01mNone\u001b[39;00m:\n\u001b[0;32m   2208\u001b[0m     solve_wrapper\u001b[38;5;241m.\u001b[39mAddLogCallback(\u001b[38;5;28mself\u001b[39m\u001b[38;5;241m.\u001b[39mlog_callback)\n\u001b[0;32m   2210\u001b[0m \u001b[38;5;28mself\u001b[39m\u001b[38;5;241m.\u001b[39m__solution \u001b[38;5;241m=\u001b[39m cp_model_pb2\u001b[38;5;241m.\u001b[39mCpSolverResponse\u001b[38;5;241m.\u001b[39mFromString(\n\u001b[1;32m-> 2211\u001b[0m     \u001b[43mswig_helper\u001b[49m\u001b[38;5;241;43m.\u001b[39;49m\u001b[43mSolveWrapper\u001b[49m\u001b[38;5;241;43m.\u001b[39;49m\u001b[43mSerializedSolve\u001b[49m\u001b[43m(\u001b[49m\n\u001b[0;32m   2212\u001b[0m \u001b[43m        \u001b[49m\u001b[43mmodel\u001b[49m\u001b[38;5;241;43m.\u001b[39;49m\u001b[43mProto\u001b[49m\u001b[43m(\u001b[49m\u001b[43m)\u001b[49m\u001b[38;5;241;43m.\u001b[39;49m\u001b[43mSerializeToString\u001b[49m\u001b[43m(\u001b[49m\u001b[43m)\u001b[49m\u001b[43m,\u001b[49m\u001b[43m \u001b[49m\u001b[43msolve_wrapper\u001b[49m\u001b[43m)\u001b[49m)\n\u001b[0;32m   2214\u001b[0m \u001b[38;5;28;01mif\u001b[39;00m solution_callback \u001b[38;5;129;01mis\u001b[39;00m \u001b[38;5;129;01mnot\u001b[39;00m \u001b[38;5;28;01mNone\u001b[39;00m:\n\u001b[0;32m   2215\u001b[0m     solve_wrapper\u001b[38;5;241m.\u001b[39mClearSolutionCallback(solution_callback)\n",
      "\u001b[1;31mKeyboardInterrupt\u001b[0m: "
     ]
    }
   ],
   "source": [
    "# solving the scheduling problem\n",
    "solver = cp_model.CpSolver()\n",
    "solver.parameters.linearization_level = 0\n",
    "solutionrange = range(1)\n",
    "solution_printer = SolutionPrinterClass(shiftoptions, workers,days , shifts, solutionrange)\n",
    "solver.SearchForAllSolutions(model, solution_printer)"
   ]
  },
  {
   "cell_type": "code",
   "execution_count": null,
   "id": "fbffae85",
   "metadata": {},
   "outputs": [],
   "source": []
  }
 ],
 "metadata": {
  "kernelspec": {
   "display_name": "Python 3 (ipykernel)",
   "language": "python",
   "name": "python3"
  },
  "language_info": {
   "codemirror_mode": {
    "name": "ipython",
    "version": 3
   },
   "file_extension": ".py",
   "mimetype": "text/x-python",
   "name": "python",
   "nbconvert_exporter": "python",
   "pygments_lexer": "ipython3",
   "version": "3.10.9"
  }
 },
 "nbformat": 4,
 "nbformat_minor": 5
}
