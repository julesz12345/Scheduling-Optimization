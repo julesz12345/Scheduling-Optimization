{
 "cells": [
  {
   "cell_type": "markdown",
   "id": "dd8abcfa",
   "metadata": {},
   "source": [
    "# Scheduling Optimization"
   ]
  },
  {
   "cell_type": "markdown",
   "id": "cdb29f75",
   "metadata": {},
   "source": [
    "## Introduction"
   ]
  },
  {
   "cell_type": "markdown",
   "id": "75ef34db",
   "metadata": {},
   "source": [
    "This exercise has for purpose to solve scheduling issues with assigning auditors to specific projects throughout the course of a year. There is a lot of information that goes into building such a model with solutions that may never be optimal or make everyone involved happy, but it is a start in helping organizations better use their resources on a more granular level."
   ]
  },
  {
   "cell_type": "markdown",
   "id": "80724e6c",
   "metadata": {},
   "source": [
    "## Setting up the model"
   ]
  },
  {
   "cell_type": "markdown",
   "id": "33517e69",
   "metadata": {},
   "source": [
    "The first step in the process is simply to import the package that we need, which in this case is the cp_model from OR-Tools and build the model."
   ]
  },
  {
   "cell_type": "code",
   "execution_count": 1,
   "id": "af99f7b5",
   "metadata": {},
   "outputs": [],
   "source": [
    "# importing package\n",
    "from ortools.sat.python import cp_model"
   ]
  },
  {
   "cell_type": "code",
   "execution_count": null,
   "id": "a65fbab4",
   "metadata": {},
   "outputs": [],
   "source": []
  }
 ],
 "metadata": {
  "kernelspec": {
   "display_name": "Python 3 (ipykernel)",
   "language": "python",
   "name": "python3"
  },
  "language_info": {
   "codemirror_mode": {
    "name": "ipython",
    "version": 3
   },
   "file_extension": ".py",
   "mimetype": "text/x-python",
   "name": "python",
   "nbconvert_exporter": "python",
   "pygments_lexer": "ipython3",
   "version": "3.10.9"
  }
 },
 "nbformat": 4,
 "nbformat_minor": 5
}
