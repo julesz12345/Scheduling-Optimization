{
 "cells": [
  {
   "cell_type": "markdown",
   "id": "fcddeb15",
   "metadata": {},
   "source": [
    "# Scheduling Optimization"
   ]
  },
  {
   "cell_type": "markdown",
   "id": "c4b95514",
   "metadata": {},
   "source": [
    "## Introduction"
   ]
  },
  {
   "cell_type": "markdown",
   "id": "086f218b",
   "metadata": {},
   "source": [
    "This exercise has for purpose to solve scheduling issues with assigning auditors to specific projects throughout the course of a year. There is a lot of information that goes into building such a model with solutions that may never be optimal or make everyone involved happy, but it is a start in helping organizations better use their resources on a more granular level."
   ]
  },
  {
   "cell_type": "markdown",
   "id": "12843aae",
   "metadata": {},
   "source": [
    "## Setting up the base model"
   ]
  },
  {
   "cell_type": "markdown",
   "id": "4b0a84b7",
   "metadata": {},
   "source": [
    "The first step in the process is simply to import the package that we need, which in this case is the cp_model from OR-Tools and build the model. We can then set up the base settings where: <br> <br>\n",
    "\n",
    "workers: number of auditors <br>\n",
    "shifts: number of auditors needed per audit <br>\n",
    "days: number of audit <br>\n",
    "maxshiftsperday: 1 regardless, since an auditor can't have multiple roles on the same project <br>\n",
    "maxdifference: 1 to ensure an auditor is not assigned to more audits than another auditor"
   ]
  },
  {
   "cell_type": "code",
   "execution_count": 1,
   "id": "f00693e9",
   "metadata": {},
   "outputs": [],
   "source": [
    "# importing package\n",
    "from ortools.sat.python import cp_model\n",
    "\n",
    "# storing indices for worker, shifts and day combination\n",
    "shiftoptions = {}"
   ]
  },
  {
   "cell_type": "code",
   "execution_count": null,
   "id": "1e325474",
   "metadata": {},
   "outputs": [],
   "source": [
    "# setting up base information for schedules\n",
    "workers = 5\n",
    "shifts = 3\n",
    "days = 7\n",
    "maxshiftsperday = 1\n",
    "maxdifference = 1"
   ]
  }
 ],
 "metadata": {
  "kernelspec": {
   "display_name": "Python 3 (ipykernel)",
   "language": "python",
   "name": "python3"
  },
  "language_info": {
   "codemirror_mode": {
    "name": "ipython",
    "version": 3
   },
   "file_extension": ".py",
   "mimetype": "text/x-python",
   "name": "python",
   "nbconvert_exporter": "python",
   "pygments_lexer": "ipython3",
   "version": "3.10.9"
  }
 },
 "nbformat": 4,
 "nbformat_minor": 5
}
