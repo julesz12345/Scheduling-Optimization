{
 "cells": [
  {
   "cell_type": "markdown",
   "id": "3577eec7",
   "metadata": {},
   "source": [
    "# Scheduling Optimization"
   ]
  },
  {
   "cell_type": "markdown",
   "id": "6f7b2e55",
   "metadata": {},
   "source": [
    "## Introduction"
   ]
  },
  {
   "cell_type": "markdown",
   "id": "56156e74",
   "metadata": {},
   "source": [
    "This exercise has for purpose to solve scheduling issues with assigning auditors to specific projects throughout the course of a year. There is a lot of information that goes into building such a model with solutions that may never be optimal or make everyone involved happy, but it is a start in helping organizations better use their resources on a more granular level."
   ]
  },
  {
   "cell_type": "markdown",
   "id": "9fb23713",
   "metadata": {},
   "source": [
    "## Setting up the base model"
   ]
  },
  {
   "cell_type": "markdown",
   "id": "14eec823",
   "metadata": {},
   "source": [
    "The first step in the process is simply to import the package that we need, which in this case is the cp_model from OR-Tools and build the model. We can then set up the base settings where: <br> <br>\n",
    "\n",
    "workers: number of auditors <br>\n",
    "shifts: number of auditors needed per audit <br>\n",
    "days: number of audit <br>\n",
    "maxshiftsperday: 1 regardless, since an auditor can't have multiple roles on the same project <br>\n",
    "maxdifference: 1 to ensure an auditor is not assigned to more audits than another auditor <br> <br>\n",
    "\n",
    "We then input all the schedule possibilities into the model use nested for loops."
   ]
  },
  {
   "cell_type": "code",
   "execution_count": 1,
   "id": "31efdc2d",
   "metadata": {},
   "outputs": [],
   "source": [
    "# importing package\n",
    "from ortools.sat.python import cp_model\n",
    "\n",
    "# creating model\n",
    "model = cp_model.CpModel()\n",
    "\n",
    "# storing indices for worker, shifts and day combination\n",
    "shiftoptions = {}"
   ]
  },
  {
   "cell_type": "code",
   "execution_count": 2,
   "id": "5072865d",
   "metadata": {},
   "outputs": [],
   "source": [
    "# setting up base information for schedules\n",
    "workers = 5\n",
    "shifts = 3\n",
    "days = 5\n",
    "maxshiftsperday = 1\n",
    "maxdifference = 1"
   ]
  },
  {
   "cell_type": "code",
   "execution_count": 3,
   "id": "b9ecfe07",
   "metadata": {},
   "outputs": [],
   "source": [
    "# creating each possible combination of worker, shift and day\n",
    "for x in range(workers):\n",
    "    for y in range(days):\n",
    "        for z in range(shifts):\n",
    "            shiftoptions[(x,y,z)] = model.NewBoolVar(\"shift with id\" + str(x) + \" \" + str(y) + \" \" + str(z))"
   ]
  },
  {
   "cell_type": "markdown",
   "id": "7d41b077",
   "metadata": {},
   "source": [
    "## Adding constraints"
   ]
  },
  {
   "cell_type": "markdown",
   "id": "46c65737",
   "metadata": {},
   "source": [
    "This is where organization specific needs are implemented into the model. For the current case that is related to auditor scheduling, we have currently added the following constraints <br> <br>\n",
    "\n",
    "Each audit slot can only be assigned to 1 worker <br>\n",
    "Auditor can only work on 1 audit at a time <br>\n",
    "Same number of audits for every for every auditor <br>\n"
   ]
  },
  {
   "cell_type": "code",
   "execution_count": 4,
   "id": "c0b38e36",
   "metadata": {},
   "outputs": [],
   "source": [
    "# one auditor per audit slot\n",
    "for y in range(days):\n",
    "    for z in range(shifts):\n",
    "        model.Add(sum(shiftoptions[(x, y, z)] for x in range(workers)) == 1)"
   ]
  },
  {
   "cell_type": "code",
   "execution_count": 5,
   "id": "dcee20e8",
   "metadata": {},
   "outputs": [],
   "source": [
    "# auditors can only work one audit at a time\n",
    "for x in range(workers):\n",
    "    for y in range(days):\n",
    "        model.Add(sum(shiftoptions[(x,y,z)] for z in range(shifts)) <= 1)"
   ]
  },
  {
   "cell_type": "code",
   "execution_count": 6,
   "id": "ab818ad6",
   "metadata": {},
   "outputs": [],
   "source": [
    "# auditors should have the same (or almost) number of audit assignments\n",
    "minshiftsperworker = (shifts * days) // workers\n",
    "maxshiftsperworker = minshiftsperworker + maxdifference\n",
    "for x in range(workers):\n",
    "    shiftsassigned = 0\n",
    "    for y in range(days):\n",
    "        for z in range(shifts):\n",
    "            shiftsassigned += shiftoptions[(x,y,z)]\n",
    "    model.Add(minshiftsperworker <= shiftsassigned)\n",
    "    model.Add(shiftsassigned <= maxshiftsperworker)"
   ]
  },
  {
   "cell_type": "markdown",
   "id": "7e5ef388",
   "metadata": {},
   "source": [
    "Given that this is the first draft of such an optimization problem, there are still lots of constraints that will need to get implemented to ensure that it can be applied to the real world. Examples of such constraints could be: <br>\n",
    "<br>\n",
    "Overlaps between audits<br>\n",
    "Auditor turnaround (people joining or leaving)<br>\n",
    "Employee hierarchy (ap1 vs dx)<br>\n",
    "Familiarity of an auditor with an audit<br>\n",
    "Auditor preference for specific audits"
   ]
  },
  {
   "cell_type": "markdown",
   "id": "4087e78c",
   "metadata": {},
   "source": [
    "## Solving problem and printing solution"
   ]
  },
  {
   "cell_type": "markdown",
   "id": "dabee8a8",
   "metadata": {},
   "source": [
    "This is the easy part where we are simply solving the problem that we have previously set up and printing its solution in a manner that a human being can understand."
   ]
  },
  {
   "cell_type": "code",
   "execution_count": 7,
   "id": "3c9ff21e",
   "metadata": {},
   "outputs": [],
   "source": [
    "# building a class to print the solution\n",
    "class SolutionPrinterClass(cp_model.CpSolverSolutionCallback):\n",
    "    def __init__(self, shiftoptions, workers, days, shifts, sols):\n",
    "        val = cp_model.CpSolverSolutionCallback.__init__(self)\n",
    "        self._shiftoptions = shiftoptions\n",
    "        self._workers = workers\n",
    "        self._days = days\n",
    "        self._shifts = shifts\n",
    "        self._solutions = set(sols)\n",
    "        self._solution_count = 0\n",
    "    def on_solution_callback(self):\n",
    "        if self._solution_count in self._solutions:\n",
    "            print(\"Solution #\" + str(self._solution_count + 1))\n",
    "            for y in range(self._days):\n",
    "                print(\"Month \" + str(y))\n",
    "                for x in range(self._workers):\n",
    "                    is_working = False\n",
    "                    for z in range(self._shifts):\n",
    "                        if self.Value(self._shiftoptions[(x,y,z)]):\n",
    "                            is_working = True\n",
    "                            print(\"Auditor \" + str(x) + \" for audit #\" + str(z))\n",
    "                    #if not is_working:\n",
    "                        #print('  Auditor {} does not work'.format(x))\n",
    "            print()\n",
    "        self._solution_count += 1\n",
    "    def solution_count(self):\n",
    "        return self._solution_count"
   ]
  },
  {
   "cell_type": "code",
   "execution_count": null,
   "id": "52252b7f",
   "metadata": {},
   "outputs": [
    {
     "name": "stdout",
     "output_type": "stream",
     "text": [
      "Solution #1\n",
      "Month 0\n",
      "Auditor 2 for audit #1\n",
      "Auditor 3 for audit #2\n",
      "Auditor 4 for audit #0\n",
      "Month 1\n",
      "Auditor 1 for audit #0\n",
      "Auditor 3 for audit #1\n",
      "Auditor 4 for audit #2\n",
      "Month 2\n",
      "Auditor 0 for audit #2\n",
      "Auditor 3 for audit #1\n",
      "Auditor 4 for audit #0\n",
      "Month 3\n",
      "Auditor 0 for audit #2\n",
      "Auditor 1 for audit #0\n",
      "Auditor 2 for audit #1\n",
      "Month 4\n",
      "Auditor 0 for audit #1\n",
      "Auditor 1 for audit #2\n",
      "Auditor 2 for audit #0\n",
      "\n",
      "Solution #2\n",
      "Month 0\n",
      "Auditor 2 for audit #1\n",
      "Auditor 3 for audit #2\n",
      "Auditor 4 for audit #0\n",
      "Month 1\n",
      "Auditor 0 for audit #0\n",
      "Auditor 3 for audit #1\n",
      "Auditor 4 for audit #2\n",
      "Month 2\n",
      "Auditor 1 for audit #2\n",
      "Auditor 3 for audit #1\n",
      "Auditor 4 for audit #0\n",
      "Month 3\n",
      "Auditor 0 for audit #2\n",
      "Auditor 1 for audit #0\n",
      "Auditor 2 for audit #1\n",
      "Month 4\n",
      "Auditor 0 for audit #1\n",
      "Auditor 1 for audit #2\n",
      "Auditor 2 for audit #0\n",
      "\n"
     ]
    }
   ],
   "source": [
    "# solving the scheduling problem\n",
    "solver = cp_model.CpSolver()\n",
    "solver.parameters.linearization_level = 0\n",
    "solutionrange = range(2)\n",
    "solution_printer = SolutionPrinterClass(shiftoptions, workers,days , shifts, solutionrange)\n",
    "solver.SearchForAllSolutions(model, solution_printer)"
   ]
  },
  {
   "cell_type": "markdown",
   "id": "b0cd92b7",
   "metadata": {},
   "source": [
    "There are multiple solutions in this case that would solve all of our constraints, though in a real scenario there may not be any feasible solutions. It is a caveat that needs to be taken into consideration before any full scale useage."
   ]
  },
  {
   "cell_type": "code",
   "execution_count": null,
   "id": "d63aca94",
   "metadata": {},
   "outputs": [],
   "source": []
  }
 ],
 "metadata": {
  "kernelspec": {
   "display_name": "Python 3 (ipykernel)",
   "language": "python",
   "name": "python3"
  },
  "language_info": {
   "codemirror_mode": {
    "name": "ipython",
    "version": 3
   },
   "file_extension": ".py",
   "mimetype": "text/x-python",
   "name": "python",
   "nbconvert_exporter": "python",
   "pygments_lexer": "ipython3",
   "version": "3.10.9"
  }
 },
 "nbformat": 4,
 "nbformat_minor": 5
}
